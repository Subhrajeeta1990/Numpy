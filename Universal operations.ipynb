{
 "cells": [
  {
   "cell_type": "code",
   "execution_count": 4,
   "id": "2f5f2d26",
   "metadata": {},
   "outputs": [
    {
     "data": {
      "text/plain": [
       "array([[1, 2, 3],\n",
       "       [4, 5, 6],\n",
       "       [7, 8, 9]])"
      ]
     },
     "execution_count": 4,
     "metadata": {},
     "output_type": "execute_result"
    }
   ],
   "source": [
    "import numpy as np\n",
    "a = np.array([[1,2,3],[4,5,6],[7,8,9]])\n",
    "a"
   ]
  },
  {
   "cell_type": "code",
   "execution_count": 5,
   "id": "b82a96cd",
   "metadata": {},
   "outputs": [
    {
     "data": {
      "text/plain": [
       "array([1, 5, 9])"
      ]
     },
     "execution_count": 5,
     "metadata": {},
     "output_type": "execute_result"
    }
   ],
   "source": [
    "np.diag(a)  #K= diagonal - by default its always 0"
   ]
  },
  {
   "cell_type": "code",
   "execution_count": 6,
   "id": "0c0cf765",
   "metadata": {},
   "outputs": [
    {
     "data": {
      "text/plain": [
       "array([2, 6])"
      ]
     },
     "execution_count": 6,
     "metadata": {},
     "output_type": "execute_result"
    }
   ],
   "source": [
    "np.diag(a,k=1)"
   ]
  },
  {
   "cell_type": "code",
   "execution_count": 7,
   "id": "e539b836",
   "metadata": {},
   "outputs": [
    {
     "data": {
      "text/plain": [
       "array([3])"
      ]
     },
     "execution_count": 7,
     "metadata": {},
     "output_type": "execute_result"
    }
   ],
   "source": [
    "np.diag(a,k=2)"
   ]
  },
  {
   "cell_type": "code",
   "execution_count": 8,
   "id": "fb163a06",
   "metadata": {},
   "outputs": [
    {
     "data": {
      "text/plain": [
       "array([4, 8])"
      ]
     },
     "execution_count": 8,
     "metadata": {},
     "output_type": "execute_result"
    }
   ],
   "source": [
    "np.diag(a,k=-1)"
   ]
  },
  {
   "cell_type": "code",
   "execution_count": 9,
   "id": "a0cf32a9",
   "metadata": {},
   "outputs": [
    {
     "data": {
      "text/plain": [
       "array([7])"
      ]
     },
     "execution_count": 9,
     "metadata": {},
     "output_type": "execute_result"
    }
   ],
   "source": [
    "np.diag(a,k=-2)"
   ]
  },
  {
   "cell_type": "code",
   "execution_count": 10,
   "id": "15361eb2",
   "metadata": {},
   "outputs": [
    {
     "data": {
      "text/plain": [
       "array([[1., 0., 0., 0., 0.],\n",
       "       [1., 1., 0., 0., 0.],\n",
       "       [1., 1., 1., 0., 0.],\n",
       "       [1., 1., 1., 1., 0.],\n",
       "       [1., 1., 1., 1., 1.]])"
      ]
     },
     "execution_count": 10,
     "metadata": {},
     "output_type": "execute_result"
    }
   ],
   "source": [
    "np.tri(5,5) # Tri= triangle - by default 1 and 0 (From 0 to negetaive - 1 and from 1 to positive =0)"
   ]
  },
  {
   "cell_type": "code",
   "execution_count": 11,
   "id": "937d9771",
   "metadata": {},
   "outputs": [
    {
     "data": {
      "text/plain": [
       "array([[0., 0., 0., 0., 0.],\n",
       "       [1., 0., 0., 0., 0.],\n",
       "       [1., 1., 0., 0., 0.],\n",
       "       [1., 1., 1., 0., 0.],\n",
       "       [1., 1., 1., 1., 0.]])"
      ]
     },
     "execution_count": 11,
     "metadata": {},
     "output_type": "execute_result"
    }
   ],
   "source": [
    "np.tri(5,5,k=-1)"
   ]
  },
  {
   "cell_type": "code",
   "execution_count": 12,
   "id": "296962b7",
   "metadata": {},
   "outputs": [
    {
     "data": {
      "text/plain": [
       "array([[1., 1., 1., 0., 0.],\n",
       "       [1., 1., 1., 1., 0.],\n",
       "       [1., 1., 1., 1., 1.],\n",
       "       [1., 1., 1., 1., 1.],\n",
       "       [1., 1., 1., 1., 1.]])"
      ]
     },
     "execution_count": 12,
     "metadata": {},
     "output_type": "execute_result"
    }
   ],
   "source": [
    "np.tri(5,5,k=2)"
   ]
  },
  {
   "cell_type": "code",
   "execution_count": 13,
   "id": "7600f346",
   "metadata": {},
   "outputs": [
    {
     "data": {
      "text/plain": [
       "array([[1, 0, 0],\n",
       "       [4, 5, 0],\n",
       "       [7, 8, 9]])"
      ]
     },
     "execution_count": 13,
     "metadata": {},
     "output_type": "execute_result"
    }
   ],
   "source": [
    "np.tril(a) # Tril = lower triangle"
   ]
  },
  {
   "cell_type": "code",
   "execution_count": 15,
   "id": "17a20197",
   "metadata": {},
   "outputs": [
    {
     "data": {
      "text/plain": [
       "array([[1, 2, 0],\n",
       "       [4, 5, 6],\n",
       "       [7, 8, 9]])"
      ]
     },
     "execution_count": 15,
     "metadata": {},
     "output_type": "execute_result"
    }
   ],
   "source": [
    "np.tril(a,k=1)"
   ]
  },
  {
   "cell_type": "code",
   "execution_count": 16,
   "id": "0694557e",
   "metadata": {},
   "outputs": [
    {
     "data": {
      "text/plain": [
       "array([[0, 0, 0],\n",
       "       [4, 0, 0],\n",
       "       [7, 8, 0]])"
      ]
     },
     "execution_count": 16,
     "metadata": {},
     "output_type": "execute_result"
    }
   ],
   "source": [
    "np.tril(a,k=-1)"
   ]
  },
  {
   "cell_type": "code",
   "execution_count": 17,
   "id": "8a47a0f8",
   "metadata": {},
   "outputs": [
    {
     "data": {
      "text/plain": [
       "array([[1, 2, 3],\n",
       "       [0, 5, 6],\n",
       "       [0, 0, 9]])"
      ]
     },
     "execution_count": 17,
     "metadata": {},
     "output_type": "execute_result"
    }
   ],
   "source": [
    "np.triu(a) #Triu = uper triangle"
   ]
  },
  {
   "cell_type": "code",
   "execution_count": 18,
   "id": "f340858f",
   "metadata": {},
   "outputs": [
    {
     "data": {
      "text/plain": [
       "array([[0, 2, 3],\n",
       "       [0, 0, 6],\n",
       "       [0, 0, 0]])"
      ]
     },
     "execution_count": 18,
     "metadata": {},
     "output_type": "execute_result"
    }
   ],
   "source": [
    "np.triu(a,k=1)"
   ]
  },
  {
   "cell_type": "code",
   "execution_count": 19,
   "id": "d2c26c61",
   "metadata": {},
   "outputs": [
    {
     "data": {
      "text/plain": [
       "array([[1, 2, 3],\n",
       "       [4, 5, 6],\n",
       "       [0, 8, 9]])"
      ]
     },
     "execution_count": 19,
     "metadata": {},
     "output_type": "execute_result"
    }
   ],
   "source": [
    "np.triu(a,k=-1)"
   ]
  },
  {
   "cell_type": "code",
   "execution_count": 20,
   "id": "16b4e88b",
   "metadata": {},
   "outputs": [
    {
     "data": {
      "text/plain": [
       "array([[1, 0, 0, 0, 0, 0, 0, 0, 0],\n",
       "       [0, 2, 0, 0, 0, 0, 0, 0, 0],\n",
       "       [0, 0, 3, 0, 0, 0, 0, 0, 0],\n",
       "       [0, 0, 0, 4, 0, 0, 0, 0, 0],\n",
       "       [0, 0, 0, 0, 5, 0, 0, 0, 0],\n",
       "       [0, 0, 0, 0, 0, 6, 0, 0, 0],\n",
       "       [0, 0, 0, 0, 0, 0, 7, 0, 0],\n",
       "       [0, 0, 0, 0, 0, 0, 0, 8, 0],\n",
       "       [0, 0, 0, 0, 0, 0, 0, 0, 9]])"
      ]
     },
     "execution_count": 20,
     "metadata": {},
     "output_type": "execute_result"
    }
   ],
   "source": [
    "np.diagflat(a) # diagflat = bring all elements to diagonal nd rest zero to form array."
   ]
  },
  {
   "cell_type": "code",
   "execution_count": 21,
   "id": "97e8729a",
   "metadata": {},
   "outputs": [
    {
     "data": {
      "text/plain": [
       "array([1, 2, 3])"
      ]
     },
     "execution_count": 21,
     "metadata": {},
     "output_type": "execute_result"
    }
   ],
   "source": [
    "b= np.array([1,2,3])\n",
    "b"
   ]
  },
  {
   "cell_type": "code",
   "execution_count": 22,
   "id": "feea9ad5",
   "metadata": {},
   "outputs": [
    {
     "data": {
      "text/plain": [
       "array([[1, 0, 0],\n",
       "       [0, 2, 0],\n",
       "       [0, 0, 3]])"
      ]
     },
     "execution_count": 22,
     "metadata": {},
     "output_type": "execute_result"
    }
   ],
   "source": [
    "np.diagflat(b) "
   ]
  },
  {
   "cell_type": "code",
   "execution_count": 23,
   "id": "1227a97d",
   "metadata": {},
   "outputs": [
    {
     "name": "stdout",
     "output_type": "stream",
     "text": [
      "range(0, 8)\n"
     ]
    }
   ],
   "source": [
    "print(range(8))"
   ]
  },
  {
   "cell_type": "code",
   "execution_count": 25,
   "id": "26f6c87d",
   "metadata": {},
   "outputs": [
    {
     "data": {
      "text/plain": [
       "[0, 1, 2, 3, 4, 5, 6, 7]"
      ]
     },
     "execution_count": 25,
     "metadata": {},
     "output_type": "execute_result"
    }
   ],
   "source": [
    "list(range(8))"
   ]
  },
  {
   "cell_type": "code",
   "execution_count": 26,
   "id": "919c72ff",
   "metadata": {},
   "outputs": [
    {
     "data": {
      "text/plain": [
       "array([0, 1, 2, 3, 4, 5, 6, 7])"
      ]
     },
     "execution_count": 26,
     "metadata": {},
     "output_type": "execute_result"
    }
   ],
   "source": [
    "np.arange(8)"
   ]
  },
  {
   "cell_type": "code",
   "execution_count": 27,
   "id": "a4e86bf2",
   "metadata": {},
   "outputs": [
    {
     "data": {
      "text/plain": [
       "array([0.2 , 0.53, 0.86, 1.19, 1.52, 1.85, 2.18, 2.51, 2.84, 3.17, 3.5 ,\n",
       "       3.83, 4.16, 4.49, 4.82, 5.15, 5.48, 5.81, 6.14, 6.47, 6.8 , 7.13,\n",
       "       7.46, 7.79])"
      ]
     },
     "execution_count": 27,
     "metadata": {},
     "output_type": "execute_result"
    }
   ],
   "source": [
    "np.arange(0.2,7.8,0.33)"
   ]
  },
  {
   "cell_type": "code",
   "execution_count": null,
   "id": "98975ea2",
   "metadata": {},
   "outputs": [],
   "source": [
    "difference between range and arange:\n",
    "    - built in function , method of array\n",
    "    - provides only range, provide array\n",
    "    - integers only, integers and floats"
   ]
  },
  {
   "cell_type": "code",
   "execution_count": 28,
   "id": "864f0f47",
   "metadata": {},
   "outputs": [
    {
     "data": {
      "text/plain": [
       "array([10.        , 11.11111111, 12.22222222, 13.33333333, 14.44444444,\n",
       "       15.55555556, 16.66666667, 17.77777778, 18.88888889, 20.        ])"
      ]
     },
     "execution_count": 28,
     "metadata": {},
     "output_type": "execute_result"
    }
   ],
   "source": [
    " np.linspace(10,20,10)   # gives elements with evenly adding the values."
   ]
  },
  {
   "cell_type": "code",
   "execution_count": 29,
   "id": "e8007d61",
   "metadata": {},
   "outputs": [
    {
     "data": {
      "text/plain": [
       "array([ 5.        ,  7.77777778, 10.55555556, 13.33333333, 16.11111111,\n",
       "       18.88888889, 21.66666667, 24.44444444, 27.22222222, 30.        ])"
      ]
     },
     "execution_count": 29,
     "metadata": {},
     "output_type": "execute_result"
    }
   ],
   "source": [
    "np.linspace(5,30,10)"
   ]
  },
  {
   "cell_type": "code",
   "execution_count": 30,
   "id": "e43102ab",
   "metadata": {},
   "outputs": [
    {
     "data": {
      "text/plain": [
       "array([1.00000000e+10, 1.29154967e+11, 1.66810054e+12, 2.15443469e+13,\n",
       "       2.78255940e+14, 3.59381366e+15, 4.64158883e+16, 5.99484250e+17,\n",
       "       7.74263683e+18, 1.00000000e+20])"
      ]
     },
     "execution_count": 30,
     "metadata": {},
     "output_type": "execute_result"
    }
   ],
   "source": [
    "np.logspace(10,20,10) #gives elements with evenly adding the log values."
   ]
  },
  {
   "cell_type": "raw",
   "id": "94d86eb6",
   "metadata": {},
   "source": [
    "#Random Number Generation:"
   ]
  },
  {
   "cell_type": "code",
   "execution_count": 31,
   "id": "3f2a3c16",
   "metadata": {},
   "outputs": [],
   "source": [
    "from numpy import random as rd"
   ]
  },
  {
   "cell_type": "code",
   "execution_count": 33,
   "id": "945bc6c4",
   "metadata": {},
   "outputs": [
    {
     "data": {
      "text/plain": [
       "array([[0.99908318, 0.45354346, 0.31520241, 0.97082425, 0.59258346],\n",
       "       [0.87166719, 0.52964155, 0.55033374, 0.44908633, 0.73996659],\n",
       "       [0.39730334, 0.86434078, 0.03259886, 0.64987564, 0.28696334]])"
      ]
     },
     "execution_count": 33,
     "metadata": {},
     "output_type": "execute_result"
    }
   ],
   "source": [
    "rd.rand(3,5) # gives array in between zero to one value as per the shape given."
   ]
  },
  {
   "cell_type": "code",
   "execution_count": 34,
   "id": "e831aa56",
   "metadata": {},
   "outputs": [
    {
     "data": {
      "text/plain": [
       "array([[ 1.17620549, -1.37691643],\n",
       "       [-1.21162102, -1.68236011]])"
      ]
     },
     "execution_count": 34,
     "metadata": {},
     "output_type": "execute_result"
    }
   ],
   "source": [
    "rd.randn(2,2)  # gives array in normal distribution as per the given shape."
   ]
  },
  {
   "cell_type": "code",
   "execution_count": 35,
   "id": "2a1f1774",
   "metadata": {},
   "outputs": [
    {
     "data": {
      "text/plain": [
       "array([28, 29, 16, 23, 18, 29, 22, 29, 20,  5, 27,  7,  8, 20, 21, 10, 17,\n",
       "       20, 10, 26])"
      ]
     },
     "execution_count": 35,
     "metadata": {},
     "output_type": "execute_result"
    }
   ],
   "source": [
    "rd.randint(5,30,20) #gives array of integers randomly as per given value with given dimension"
   ]
  },
  {
   "cell_type": "code",
   "execution_count": 36,
   "id": "5c33236a",
   "metadata": {},
   "outputs": [],
   "source": [
    "a= rd.randint(5,30,(3,3))"
   ]
  },
  {
   "cell_type": "code",
   "execution_count": 37,
   "id": "0c45f3de",
   "metadata": {},
   "outputs": [
    {
     "data": {
      "text/plain": [
       "array([[ 8, 12, 14],\n",
       "       [ 8, 26, 23],\n",
       "       [24, 15, 18]])"
      ]
     },
     "execution_count": 37,
     "metadata": {},
     "output_type": "execute_result"
    }
   ],
   "source": [
    "a"
   ]
  },
  {
   "cell_type": "code",
   "execution_count": 38,
   "id": "d042e587",
   "metadata": {},
   "outputs": [
    {
     "data": {
      "text/plain": [
       "26"
      ]
     },
     "execution_count": 38,
     "metadata": {},
     "output_type": "execute_result"
    }
   ],
   "source": [
    "a.max()"
   ]
  },
  {
   "cell_type": "code",
   "execution_count": 39,
   "id": "5632747b",
   "metadata": {},
   "outputs": [
    {
     "data": {
      "text/plain": [
       "8"
      ]
     },
     "execution_count": 39,
     "metadata": {},
     "output_type": "execute_result"
    }
   ],
   "source": [
    "a.min()"
   ]
  },
  {
   "cell_type": "code",
   "execution_count": 40,
   "id": "15f29bbb",
   "metadata": {},
   "outputs": [
    {
     "data": {
      "text/plain": [
       "16.444444444444443"
      ]
     },
     "execution_count": 40,
     "metadata": {},
     "output_type": "execute_result"
    }
   ],
   "source": [
    "a.mean()"
   ]
  },
  {
   "cell_type": "code",
   "execution_count": 42,
   "id": "2797525e",
   "metadata": {},
   "outputs": [
    {
     "data": {
      "text/plain": [
       "15.0"
      ]
     },
     "execution_count": 42,
     "metadata": {},
     "output_type": "execute_result"
    }
   ],
   "source": [
    "np.median(a)"
   ]
  },
  {
   "cell_type": "code",
   "execution_count": 43,
   "id": "1c1e771f",
   "metadata": {},
   "outputs": [
    {
     "data": {
      "text/plain": [
       "6.361535648133172"
      ]
     },
     "execution_count": 43,
     "metadata": {},
     "output_type": "execute_result"
    }
   ],
   "source": [
    "np.std(a)"
   ]
  },
  {
   "cell_type": "code",
   "execution_count": 45,
   "id": "ee045cd6",
   "metadata": {},
   "outputs": [
    {
     "data": {
      "text/plain": [
       "40.46913580246914"
      ]
     },
     "execution_count": 45,
     "metadata": {},
     "output_type": "execute_result"
    }
   ],
   "source": [
    "np.var(a)"
   ]
  },
  {
   "cell_type": "code",
   "execution_count": null,
   "id": "f7fa5306",
   "metadata": {},
   "outputs": [],
   "source": []
  },
  {
   "cell_type": "code",
   "execution_count": null,
   "id": "f5f1ccdd",
   "metadata": {},
   "outputs": [],
   "source": []
  },
  {
   "cell_type": "code",
   "execution_count": null,
   "id": "a1a962e8",
   "metadata": {},
   "outputs": [],
   "source": []
  }
 ],
 "metadata": {
  "kernelspec": {
   "display_name": "Python 3",
   "language": "python",
   "name": "python3"
  },
  "language_info": {
   "codemirror_mode": {
    "name": "ipython",
    "version": 3
   },
   "file_extension": ".py",
   "mimetype": "text/x-python",
   "name": "python",
   "nbconvert_exporter": "python",
   "pygments_lexer": "ipython3",
   "version": "3.8.8"
  }
 },
 "nbformat": 4,
 "nbformat_minor": 5
}
